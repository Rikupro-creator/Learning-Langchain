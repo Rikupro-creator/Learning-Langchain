{
  "nbformat": 4,
  "nbformat_minor": 0,
  "metadata": {
    "colab": {
      "provenance": [],
      "include_colab_link": true
    },
    "kernelspec": {
      "name": "python3",
      "display_name": "Python 3"
    },
    "language_info": {
      "name": "python"
    }
  },
  "cells": [
    {
      "cell_type": "markdown",
      "metadata": {
        "id": "view-in-github",
        "colab_type": "text"
      },
      "source": [
        "<a href=\"https://colab.research.google.com/github/Rikupro-creator/Learning-Langchain/blob/main/Langchain_training.ipynb\" target=\"_parent\"><img src=\"https://colab.research.google.com/assets/colab-badge.svg\" alt=\"Open In Colab\"/></a>"
      ]
    },
    {
      "cell_type": "markdown",
      "source": [
        "This is a notebook to understand the basics of  langchain. I am beginning out on Langchain and I believe that with more codding I can get better. So what does this code  do?\n",
        "\n",
        "first, its an intro to langchain and  creating LLM models.\n",
        "\n",
        "secondly, the  code also teaches on how to use a conversational chain.\n",
        "\n",
        "finally, we end with the creation of  RAG which is a retriever of  documents that have the same meaning as the prompt that we are using.\n",
        "\n",
        "\n",
        "Lets, get started. This will be fun."
      ],
      "metadata": {
        "id": "6g0yDFK9fvXd"
      }
    },
    {
      "cell_type": "code",
      "source": [
        "import os\n",
        "os.environ['OPENAI_API_KEY']=''"
      ],
      "metadata": {
        "id": "q-FVG7uYf4a3"
      },
      "execution_count": null,
      "outputs": []
    },
    {
      "cell_type": "markdown",
      "source": [
        "Lets install all the packages that are needed for this analysis."
      ],
      "metadata": {
        "id": "1gfrekD5gzfj"
      }
    },
    {
      "cell_type": "code",
      "source": [
        "pip install langchain openai langchain_community tiktoken"
      ],
      "metadata": {
        "colab": {
          "base_uri": "https://localhost:8080/"
        },
        "id": "H8XQ7aieg6ZK",
        "outputId": "f9c82965-869a-443f-a007-e1d135a3ee81"
      },
      "execution_count": null,
      "outputs": [
        {
          "output_type": "stream",
          "name": "stdout",
          "text": [
            "Collecting langchain\n",
            "  Downloading langchain-0.2.5-py3-none-any.whl (974 kB)\n",
            "\u001b[2K     \u001b[90m━━━━━━━━━━━━━━━━━━━━━━━━━━━━━━━━━━━━━━━━\u001b[0m \u001b[32m974.6/974.6 kB\u001b[0m \u001b[31m7.4 MB/s\u001b[0m eta \u001b[36m0:00:00\u001b[0m\n",
            "\u001b[?25hCollecting openai\n",
            "  Downloading openai-1.34.0-py3-none-any.whl (325 kB)\n",
            "\u001b[2K     \u001b[90m━━━━━━━━━━━━━━━━━━━━━━━━━━━━━━━━━━━━━━━━\u001b[0m \u001b[32m325.5/325.5 kB\u001b[0m \u001b[31m11.0 MB/s\u001b[0m eta \u001b[36m0:00:00\u001b[0m\n",
            "\u001b[?25hCollecting langchain_community\n",
            "  Downloading langchain_community-0.2.5-py3-none-any.whl (2.2 MB)\n",
            "\u001b[2K     \u001b[90m━━━━━━━━━━━━━━━━━━━━━━━━━━━━━━━━━━━━━━━━\u001b[0m \u001b[32m2.2/2.2 MB\u001b[0m \u001b[31m17.7 MB/s\u001b[0m eta \u001b[36m0:00:00\u001b[0m\n",
            "\u001b[?25hCollecting tiktoken\n",
            "  Downloading tiktoken-0.7.0-cp310-cp310-manylinux_2_17_x86_64.manylinux2014_x86_64.whl (1.1 MB)\n",
            "\u001b[2K     \u001b[90m━━━━━━━━━━━━━━━━━━━━━━━━━━━━━━━━━━━━━━━━\u001b[0m \u001b[32m1.1/1.1 MB\u001b[0m \u001b[31m26.8 MB/s\u001b[0m eta \u001b[36m0:00:00\u001b[0m\n",
            "\u001b[?25hRequirement already satisfied: PyYAML>=5.3 in /usr/local/lib/python3.10/dist-packages (from langchain) (6.0.1)\n",
            "Requirement already satisfied: SQLAlchemy<3,>=1.4 in /usr/local/lib/python3.10/dist-packages (from langchain) (2.0.30)\n",
            "Requirement already satisfied: aiohttp<4.0.0,>=3.8.3 in /usr/local/lib/python3.10/dist-packages (from langchain) (3.9.5)\n",
            "Requirement already satisfied: async-timeout<5.0.0,>=4.0.0 in /usr/local/lib/python3.10/dist-packages (from langchain) (4.0.3)\n",
            "Collecting langchain-core<0.3.0,>=0.2.7 (from langchain)\n",
            "  Downloading langchain_core-0.2.8-py3-none-any.whl (315 kB)\n",
            "\u001b[2K     \u001b[90m━━━━━━━━━━━━━━━━━━━━━━━━━━━━━━━━━━━━━━━━\u001b[0m \u001b[32m315.8/315.8 kB\u001b[0m \u001b[31m20.9 MB/s\u001b[0m eta \u001b[36m0:00:00\u001b[0m\n",
            "\u001b[?25hCollecting langchain-text-splitters<0.3.0,>=0.2.0 (from langchain)\n",
            "  Downloading langchain_text_splitters-0.2.1-py3-none-any.whl (23 kB)\n",
            "Collecting langsmith<0.2.0,>=0.1.17 (from langchain)\n",
            "  Downloading langsmith-0.1.79-py3-none-any.whl (125 kB)\n",
            "\u001b[2K     \u001b[90m━━━━━━━━━━━━━━━━━━━━━━━━━━━━━━━━━━━━━━━━\u001b[0m \u001b[32m125.3/125.3 kB\u001b[0m \u001b[31m17.3 MB/s\u001b[0m eta \u001b[36m0:00:00\u001b[0m\n",
            "\u001b[?25hRequirement already satisfied: numpy<2,>=1 in /usr/local/lib/python3.10/dist-packages (from langchain) (1.25.2)\n",
            "Requirement already satisfied: pydantic<3,>=1 in /usr/local/lib/python3.10/dist-packages (from langchain) (2.7.3)\n",
            "Requirement already satisfied: requests<3,>=2 in /usr/local/lib/python3.10/dist-packages (from langchain) (2.31.0)\n",
            "Requirement already satisfied: tenacity<9.0.0,>=8.1.0 in /usr/local/lib/python3.10/dist-packages (from langchain) (8.3.0)\n",
            "Requirement already satisfied: anyio<5,>=3.5.0 in /usr/local/lib/python3.10/dist-packages (from openai) (3.7.1)\n",
            "Requirement already satisfied: distro<2,>=1.7.0 in /usr/lib/python3/dist-packages (from openai) (1.7.0)\n",
            "Collecting httpx<1,>=0.23.0 (from openai)\n",
            "  Downloading httpx-0.27.0-py3-none-any.whl (75 kB)\n",
            "\u001b[2K     \u001b[90m━━━━━━━━━━━━━━━━━━━━━━━━━━━━━━━━━━━━━━━━\u001b[0m \u001b[32m75.6/75.6 kB\u001b[0m \u001b[31m10.0 MB/s\u001b[0m eta \u001b[36m0:00:00\u001b[0m\n",
            "\u001b[?25hRequirement already satisfied: sniffio in /usr/local/lib/python3.10/dist-packages (from openai) (1.3.1)\n",
            "Requirement already satisfied: tqdm>4 in /usr/local/lib/python3.10/dist-packages (from openai) (4.66.4)\n",
            "Requirement already satisfied: typing-extensions<5,>=4.7 in /usr/local/lib/python3.10/dist-packages (from openai) (4.12.2)\n",
            "Collecting dataclasses-json<0.7,>=0.5.7 (from langchain_community)\n",
            "  Downloading dataclasses_json-0.6.7-py3-none-any.whl (28 kB)\n",
            "Requirement already satisfied: regex>=2022.1.18 in /usr/local/lib/python3.10/dist-packages (from tiktoken) (2024.5.15)\n",
            "Requirement already satisfied: aiosignal>=1.1.2 in /usr/local/lib/python3.10/dist-packages (from aiohttp<4.0.0,>=3.8.3->langchain) (1.3.1)\n",
            "Requirement already satisfied: attrs>=17.3.0 in /usr/local/lib/python3.10/dist-packages (from aiohttp<4.0.0,>=3.8.3->langchain) (23.2.0)\n",
            "Requirement already satisfied: frozenlist>=1.1.1 in /usr/local/lib/python3.10/dist-packages (from aiohttp<4.0.0,>=3.8.3->langchain) (1.4.1)\n",
            "Requirement already satisfied: multidict<7.0,>=4.5 in /usr/local/lib/python3.10/dist-packages (from aiohttp<4.0.0,>=3.8.3->langchain) (6.0.5)\n",
            "Requirement already satisfied: yarl<2.0,>=1.0 in /usr/local/lib/python3.10/dist-packages (from aiohttp<4.0.0,>=3.8.3->langchain) (1.9.4)\n",
            "Requirement already satisfied: idna>=2.8 in /usr/local/lib/python3.10/dist-packages (from anyio<5,>=3.5.0->openai) (3.7)\n",
            "Requirement already satisfied: exceptiongroup in /usr/local/lib/python3.10/dist-packages (from anyio<5,>=3.5.0->openai) (1.2.1)\n",
            "Collecting marshmallow<4.0.0,>=3.18.0 (from dataclasses-json<0.7,>=0.5.7->langchain_community)\n",
            "  Downloading marshmallow-3.21.3-py3-none-any.whl (49 kB)\n",
            "\u001b[2K     \u001b[90m━━━━━━━━━━━━━━━━━━━━━━━━━━━━━━━━━━━━━━━━\u001b[0m \u001b[32m49.2/49.2 kB\u001b[0m \u001b[31m6.8 MB/s\u001b[0m eta \u001b[36m0:00:00\u001b[0m\n",
            "\u001b[?25hCollecting typing-inspect<1,>=0.4.0 (from dataclasses-json<0.7,>=0.5.7->langchain_community)\n",
            "  Downloading typing_inspect-0.9.0-py3-none-any.whl (8.8 kB)\n",
            "Requirement already satisfied: certifi in /usr/local/lib/python3.10/dist-packages (from httpx<1,>=0.23.0->openai) (2024.6.2)\n",
            "Collecting httpcore==1.* (from httpx<1,>=0.23.0->openai)\n",
            "  Downloading httpcore-1.0.5-py3-none-any.whl (77 kB)\n",
            "\u001b[2K     \u001b[90m━━━━━━━━━━━━━━━━━━━━━━━━━━━━━━━━━━━━━━━━\u001b[0m \u001b[32m77.9/77.9 kB\u001b[0m \u001b[31m10.5 MB/s\u001b[0m eta \u001b[36m0:00:00\u001b[0m\n",
            "\u001b[?25hCollecting h11<0.15,>=0.13 (from httpcore==1.*->httpx<1,>=0.23.0->openai)\n",
            "  Downloading h11-0.14.0-py3-none-any.whl (58 kB)\n",
            "\u001b[2K     \u001b[90m━━━━━━━━━━━━━━━━━━━━━━━━━━━━━━━━━━━━━━━━\u001b[0m \u001b[32m58.3/58.3 kB\u001b[0m \u001b[31m8.4 MB/s\u001b[0m eta \u001b[36m0:00:00\u001b[0m\n",
            "\u001b[?25hCollecting jsonpatch<2.0,>=1.33 (from langchain-core<0.3.0,>=0.2.7->langchain)\n",
            "  Downloading jsonpatch-1.33-py2.py3-none-any.whl (12 kB)\n",
            "Requirement already satisfied: packaging<25,>=23.2 in /usr/local/lib/python3.10/dist-packages (from langchain-core<0.3.0,>=0.2.7->langchain) (24.1)\n",
            "Collecting orjson<4.0.0,>=3.9.14 (from langsmith<0.2.0,>=0.1.17->langchain)\n",
            "  Downloading orjson-3.10.5-cp310-cp310-manylinux_2_17_x86_64.manylinux2014_x86_64.whl (144 kB)\n",
            "\u001b[2K     \u001b[90m━━━━━━━━━━━━━━━━━━━━━━━━━━━━━━━━━━━━━━━━\u001b[0m \u001b[32m145.0/145.0 kB\u001b[0m \u001b[31m18.7 MB/s\u001b[0m eta \u001b[36m0:00:00\u001b[0m\n",
            "\u001b[?25hRequirement already satisfied: annotated-types>=0.4.0 in /usr/local/lib/python3.10/dist-packages (from pydantic<3,>=1->langchain) (0.7.0)\n",
            "Requirement already satisfied: pydantic-core==2.18.4 in /usr/local/lib/python3.10/dist-packages (from pydantic<3,>=1->langchain) (2.18.4)\n",
            "Requirement already satisfied: charset-normalizer<4,>=2 in /usr/local/lib/python3.10/dist-packages (from requests<3,>=2->langchain) (3.3.2)\n",
            "Requirement already satisfied: urllib3<3,>=1.21.1 in /usr/local/lib/python3.10/dist-packages (from requests<3,>=2->langchain) (2.0.7)\n",
            "Requirement already satisfied: greenlet!=0.4.17 in /usr/local/lib/python3.10/dist-packages (from SQLAlchemy<3,>=1.4->langchain) (3.0.3)\n",
            "Collecting jsonpointer>=1.9 (from jsonpatch<2.0,>=1.33->langchain-core<0.3.0,>=0.2.7->langchain)\n",
            "  Downloading jsonpointer-3.0.0-py2.py3-none-any.whl (7.6 kB)\n",
            "Collecting mypy-extensions>=0.3.0 (from typing-inspect<1,>=0.4.0->dataclasses-json<0.7,>=0.5.7->langchain_community)\n",
            "  Downloading mypy_extensions-1.0.0-py3-none-any.whl (4.7 kB)\n",
            "Installing collected packages: orjson, mypy-extensions, marshmallow, jsonpointer, h11, typing-inspect, tiktoken, jsonpatch, httpcore, langsmith, httpx, dataclasses-json, openai, langchain-core, langchain-text-splitters, langchain, langchain_community\n",
            "Successfully installed dataclasses-json-0.6.7 h11-0.14.0 httpcore-1.0.5 httpx-0.27.0 jsonpatch-1.33 jsonpointer-3.0.0 langchain-0.2.5 langchain-core-0.2.8 langchain-text-splitters-0.2.1 langchain_community-0.2.5 langsmith-0.1.79 marshmallow-3.21.3 mypy-extensions-1.0.0 openai-1.34.0 orjson-3.10.5 tiktoken-0.7.0 typing-inspect-0.9.0\n"
          ]
        }
      ]
    },
    {
      "cell_type": "code",
      "source": [
        "# Run basic query with OpenAI wrapper\n",
        "\n",
        "from langchain.llms import OpenAI\n",
        "\n",
        "llm=OpenAI()\n",
        "\n",
        "answer=llm(\"explain large language models in one sentence\")\n",
        "print(answer.strip())\n"
      ],
      "metadata": {
        "id": "C7RnyUOCJWmk",
        "colab": {
          "base_uri": "https://localhost:8080/"
        },
        "outputId": "0df38054-8572-48b8-e8cc-4db08a16672a"
      },
      "execution_count": null,
      "outputs": [
        {
          "output_type": "stream",
          "name": "stdout",
          "text": [
            "Large language models are advanced artificial intelligence systems that use vast amounts of data to generate human-like text and responses.\n"
          ]
        }
      ]
    },
    {
      "cell_type": "code",
      "source": [
        "# import schema for chat messages and ChatOpenAI in order to query chatmodels GPT-3.5-turbo or GPT-4\n",
        "\n",
        "from langchain.schema import AIMessage, HumanMessage, SystemMessage\n",
        "from langchain.chat_models import ChatOpenAI\n"
      ],
      "metadata": {
        "id": "JtHgQ5XpJmgi"
      },
      "execution_count": null,
      "outputs": []
    },
    {
      "cell_type": "code",
      "source": [
        "# lets use it"
      ],
      "metadata": {
        "id": "WHmQ7jL7ioUs"
      },
      "execution_count": null,
      "outputs": []
    },
    {
      "cell_type": "code",
      "source": [
        "chat=ChatOpenAI(model_name='gpt-3.5-turbo', temperature=0.3)\n",
        "\n",
        "messages=[\n",
        "    SystenMessage(content='You are an expert data scientist'),\n",
        "    HumanMessage(content='Write a python script that trains a neural network on simulated data')\n",
        "\n",
        "]\n",
        "\n",
        "response=chat(messages)\n",
        "print(response.content, end='\\n')"
      ],
      "metadata": {
        "id": "LprAAeI_iqNy"
      },
      "execution_count": null,
      "outputs": []
    },
    {
      "cell_type": "code",
      "source": [
        "# Import prompt and define PromptTemplate\n",
        "\n",
        "from langchain import PromptTemplate\n",
        "\n",
        "\n",
        "template=\"\"\"\n",
        "You are an expert data scientist with an expertise in building deep learning models.\n",
        "Explain the concept of {concept} in a couple of lines\n",
        "\"\"\"\n",
        "\n",
        "prompt=PromptTemplate(\n",
        "    input_variables=[\"concept\"],\n",
        "    template=template\n",
        ")\n",
        "\n"
      ],
      "metadata": {
        "id": "2grf7I8AJ_hK"
      },
      "execution_count": null,
      "outputs": []
    },
    {
      "cell_type": "code",
      "source": [
        "# Run LLM with PromptTemplate\n",
        "answer=llm(prompt.format(concept='Generative AIs'))\n",
        "answer.strip()"
      ],
      "metadata": {
        "id": "vcz7Q9Y-KFvI",
        "colab": {
          "base_uri": "https://localhost:8080/",
          "height": 110
        },
        "outputId": "a3b2cf4f-350c-455e-c707-f528798c96a9"
      },
      "execution_count": null,
      "outputs": [
        {
          "output_type": "execute_result",
          "data": {
            "text/plain": [
              "'Generative AIs are a type of artificial intelligence that can generate new data or content, such as images, text, or audio, based on patterns and structures learned from existing data. They use deep learning techniques to generate realistic and novel outputs that can mimic human creativity and generate new ideas. This has applications in fields such as art, music, and language generation, and is constantly evolving with advancements in deep learning algorithms.'"
            ],
            "application/vnd.google.colaboratory.intrinsic+json": {
              "type": "string"
            }
          },
          "metadata": {},
          "execution_count": 15
        }
      ]
    },
    {
      "cell_type": "code",
      "source": [
        "# Import LLMChain and define chain with language model and prompt as arguments.\n",
        "\n",
        "from langchain.chains import LLMChain\n",
        "chain=LLMChain(llm=llm, prompt=prompt)\n",
        "\n",
        "# Run the chain only specifying the input variable.\n",
        "chain.run(\"autoencoder\")"
      ],
      "metadata": {
        "id": "dm78i-rUKXIB",
        "colab": {
          "base_uri": "https://localhost:8080/",
          "height": 91
        },
        "outputId": "32a91801-941b-4d00-e89f-41dc432874a8"
      },
      "execution_count": null,
      "outputs": [
        {
          "output_type": "execute_result",
          "data": {
            "text/plain": [
              "'\\nAn autoencoder is a type of neural network that is trained to reconstruct its input, often used for unsupervised learning tasks such as data compression or feature extraction. It consists of an encoder that compresses the input data into a lower dimensional representation, and a decoder that reconstructs the original input from this compressed representation.'"
            ],
            "application/vnd.google.colaboratory.intrinsic+json": {
              "type": "string"
            }
          },
          "metadata": {},
          "execution_count": 18
        }
      ]
    },
    {
      "cell_type": "code",
      "source": [
        "# Define a second prompt\n",
        "second_prompt=PromptTemplate(\n",
        "    input_variables=[\"ml_concept\"],\n",
        "    template=\"Turn the concept description of {ml_concept} and explain it to me like I'm five in 500 words\",\n",
        ")\n",
        "chain_two=LLMChain(llm=llm, prompt=second_prompt)\n"
      ],
      "metadata": {
        "id": "B6MF4-nMKul3"
      },
      "execution_count": null,
      "outputs": []
    },
    {
      "cell_type": "code",
      "source": [
        "# Define a sequential chain using the two chains above: the second chain takes the output of the first chain as input\n",
        "\n",
        "from langchain.chains import SimpleSequentialChain\n",
        "\n",
        "overall_chain=SimpleSequentialChain(chains=[chain, chain_two], verbose=True)\n",
        "\n",
        "# Run the chain specifying only the input variable for the first chain.\n",
        "explanation=overall_chain.run('autoencodeer')\n",
        "explanation"
      ],
      "metadata": {
        "id": "SkJKFyk1K-MO",
        "colab": {
          "base_uri": "https://localhost:8080/",
          "height": 497
        },
        "outputId": "a1fde849-ead2-48fe-fa12-b89e0c3f4a78"
      },
      "execution_count": null,
      "outputs": [
        {
          "output_type": "stream",
          "name": "stdout",
          "text": [
            "\n",
            "\n",
            "\u001b[1m> Entering new SimpleSequentialChain chain...\u001b[0m\n",
            "\u001b[36;1m\u001b[1;3m\n",
            "An autoencoder is a type of neural network that aims to learn a compressed representation of the input data by training itself to reconstruct the original data as closely as possible. It consists of an encoder network that compresses the input data into a lower-dimensional representation, and a decoder network that reconstructs the original data from the compressed representation. This approach can be used for data compression, dimensionality reduction, and anomaly detection.\u001b[0m\n",
            "\u001b[33;1m\u001b[1;3m\n",
            "\n",
            "Imagine you have a big box full of different kinds of toys - cars, dolls, blocks, stuffed animals, and more. If you were asked to organize all the toys in the box, you might separate them into different groups based on their size, shape, or color. This way, you can easily find a specific toy when you want to play with it.\n",
            "\n",
            "Now, let's say you have a friend who wants to borrow some toys from your box, but they only want to take a few with them. It would be a lot of work for them to take all the toys and then sort through them later to find the ones they want. So, instead, you decide to make a smaller box that only fits a few toys. But you don't want to just randomly throw in some toys, you want to make sure the smaller box still has a good mix of different types of toys.\n",
            "\n",
            "This is where an autoencoder comes in. It's like a special kind of box that can learn how to organize the toys in a compressed way. The box has two parts - an encoder and a decoder. The encoder takes in all the toys and figures out how to group them together based on their similarities. Then, the decoder takes this information and tries to recreate the original\u001b[0m\n",
            "\n",
            "\u001b[1m> Finished chain.\u001b[0m\n"
          ]
        },
        {
          "output_type": "execute_result",
          "data": {
            "text/plain": [
              "\"\\n\\nImagine you have a big box full of different kinds of toys - cars, dolls, blocks, stuffed animals, and more. If you were asked to organize all the toys in the box, you might separate them into different groups based on their size, shape, or color. This way, you can easily find a specific toy when you want to play with it.\\n\\nNow, let's say you have a friend who wants to borrow some toys from your box, but they only want to take a few with them. It would be a lot of work for them to take all the toys and then sort through them later to find the ones they want. So, instead, you decide to make a smaller box that only fits a few toys. But you don't want to just randomly throw in some toys, you want to make sure the smaller box still has a good mix of different types of toys.\\n\\nThis is where an autoencoder comes in. It's like a special kind of box that can learn how to organize the toys in a compressed way. The box has two parts - an encoder and a decoder. The encoder takes in all the toys and figures out how to group them together based on their similarities. Then, the decoder takes this information and tries to recreate the original\""
            ],
            "application/vnd.google.colaboratory.intrinsic+json": {
              "type": "string"
            }
          },
          "metadata": {},
          "execution_count": 21
        }
      ]
    },
    {
      "cell_type": "markdown",
      "source": [
        "Now, in the next part we are going to use  the explanation that has been provided to us as an input to the RAG model."
      ],
      "metadata": {
        "id": "9i2wP-WInWA5"
      }
    },
    {
      "cell_type": "markdown",
      "source": [
        "Lets start by creating a text splitter. Its very handy in large projects but not in this one that we are doing. By this I mean those that have a large dataset. You can have a PDF  with hundreds of pages."
      ],
      "metadata": {
        "id": "oJbrmMGjnglW"
      }
    },
    {
      "cell_type": "code",
      "source": [
        "# Import utility for splitting up texts and split up the explanation given above into document chunks\n",
        "\n",
        "from langchain.text_splitter import RecursiveCharacterTextSplitter\n",
        "\n",
        "text_splitter=RecursiveCharacterTextSplitter(\n",
        "    chunk_size=100,\n",
        "    chunk_overlap=0,\n",
        ")\n",
        "\n",
        "texts=text_splitter.create_documents([explanation]) # remember the text here is passed as  a list"
      ],
      "metadata": {
        "id": "mDDu1B_SLQls"
      },
      "execution_count": null,
      "outputs": []
    },
    {
      "cell_type": "code",
      "source": [
        "# Individual text chunks can be accessed with \"page_content\"\n",
        "\n",
        "texts[0].page_content"
      ],
      "metadata": {
        "id": "F6lfAdeuLhtp",
        "colab": {
          "base_uri": "https://localhost:8080/",
          "height": 55
        },
        "outputId": "ecd9336b-a506-43cd-accd-81c3c9286e38"
      },
      "execution_count": null,
      "outputs": [
        {
          "output_type": "execute_result",
          "data": {
            "text/plain": [
              "'Imagine you have a big box full of different kinds of toys - cars, dolls, blocks, stuffed animals,'"
            ],
            "application/vnd.google.colaboratory.intrinsic+json": {
              "type": "string"
            }
          },
          "metadata": {},
          "execution_count": 27
        }
      ]
    },
    {
      "cell_type": "code",
      "source": [
        "# Import and instantiate OpenAI embeddings\n",
        "\n",
        "from langchain.embeddings import OpenAIEmbeddings\n",
        "\n",
        "embeddings=OpenAIEmbeddings()\n"
      ],
      "metadata": {
        "id": "Z5sv4e3tLw2y"
      },
      "execution_count": null,
      "outputs": []
    },
    {
      "cell_type": "code",
      "source": [
        "# Turn the first text chunk into a vector with the embedding\n",
        "\n",
        "query_results=embeddings.embed_query(texts[0].page_content)\n",
        "print(query_results)"
      ],
      "metadata": {
        "id": "dqzoir4hMlfl",
        "colab": {
          "base_uri": "https://localhost:8080/"
        },
        "outputId": "2e75698d-88ce-4203-8170-63e91040a917"
      },
      "execution_count": null,
      "outputs": [
        {
          "output_type": "stream",
          "name": "stdout",
          "text": [
            "[-0.01427655481933461, -0.013724423024503987, -0.009668882012579153, -0.004696407824751277, -0.032128822083901006, 0.0248853750724119, -0.024438411016757925, -0.021980110573306226, -0.0033193647422125037, -0.02692300455915701, -0.0074932193442957444, 0.020954722555196825, 0.022703139129391644, -0.006073451605781983, 0.007828442386036225, 0.020612925307396925, 0.005685644228791892, 0.017720805495119788, -0.004252730406465727, -0.04035821560243328, -0.0037959071371984174, 0.005294551145755953, -0.00852518063714199, -0.02936816031578017, -0.002425436863735201, 0.004121270499664273, 0.007572095381508875, -0.033233083810917094, -0.0006030726949806996, 0.0019850458499874294, 0.018391251578600748, -0.03162927183035227, -0.005396432713225466, -0.01706350596111252, -0.037045422970804404, 0.004929749764683532, 0.014973292139117798, -0.01635362209185564, 0.022637410107313495, 0.009261355742701101, 0.0067767622003020184, 0.03094568106004277, 0.005156517964217654, -0.01602497325617458, 0.015091606427768137, 0.02042888292799101, -0.026830984300776628, -0.002998930870137994, -0.011614490309621306, 0.004200146536877403, 0.026673231295027792, -0.003273353681699737, -0.010451069109973607, -0.016932046054311065, 0.012291508736516535, 0.01330375113647482, -0.018930237755280254, -0.02048146540059547, 0.01878563129900511, -0.010168430403482738, 0.002243035940368347, 0.03162927183035227, -0.01054309123099914, 0.0075852414653212775, -0.012258644225477459, -0.006290360358872125, 0.00424615759739017, -0.022900329920916403, 0.00920219906403722, -0.015775198129400213, 0.03680879625614888, 0.015301942837444009, -0.009156188003524454, -0.006296933633608969, -0.012186340997339888, -0.007111985242042498, 0.011903702290849019, 0.009997531779582788, 0.008958998143322273, -0.0008758521878582313, 0.025700427612168005, -0.04062113541603619, -0.033916678306516894, 0.004239584788314612, 0.022374490293710587, 0.003112315202735699, -0.013067122559174143, 0.024806499500860058, 0.03241803127116099, 0.009097031324860571, 0.017497323467292804, -0.0011412369794874559, 0.018062602742919688, 0.002381069121906646, 0.020573487521621, -0.00033008781637147185, -0.0013318540306140791, -0.004318460359866454, 0.001287486288785524, -0.004305314741715339, 0.015209920716418477, 0.010884886616153888, -0.028027270011463403, 0.0003695258058742063, -0.016287893069777487, -0.008558045148181067, 0.01564373822259876, -0.00836742856271573, -0.010799437769865201, -0.013579816568228842, -0.022597972321537572, 0.04154135662629152, 0.0329438746236571, -0.0449856073020767, 0.004499217964549097, -0.018667317941677346, -0.005619914275391165, 0.0029578497656778616, -0.01807574742974823, -0.01740530320891242, 0.010483933621012681, 0.017194965867913973, 0.02558211425484024, 0.006987098144316603, 0.02150685341870487, 0.004831154368921154, 0.0032125534515210006, -0.002367923038094243, 0.012114037769202316, -0.012685888456920896, 0.025476945584341017, 0.010648258970175788, 0.013737568642655103, -0.0026341294890655734, -0.03223399075440023, 0.010812584319338892, -0.011312131778919902, 0.024740770478781905, 0.007190861279255628, -0.0023564202729660514, 0.003059731100316731, 0.040700010987588034, -0.016116995377200113, -0.004929749764683532, -0.029552204557831235, 0.017628785236739407, 0.040121588887777754, 0.026462895816674496, -0.008222822106440587, 0.010628540077287826, 0.006057018884601158, -7.759220176704735e-05, 0.0045287967695423256, 0.0022627550660869514, 0.01451318246531271, 0.024753915165610447, -0.010293317035547346, 0.015840929014123515, -0.008893268189921547, -0.0019439645126966532, 0.024359535445206085, -0.0010089554133438964, 0.023321000877622993, 0.012133756662090276, 0.015091606427768137, 0.014920708735190762, 0.024004593510577644, 0.010115846068233127, 0.011568479249108539, -0.0005722617502202784, -0.022085277381160298, -0.0093993889242394, -0.02963108199202823, 0.0322602801280573, -0.008275406441690197, 0.022348197194763206, -0.0014978222328001077, -0.0016243524163795714, -0.020981013791499054, -0.022795161250417178, -0.0050020525271598166, -0.027054466328603612, 0.005685644228791892, 0.001983402531303218, -0.0002419685335651953, -0.026239413788847508, 0.0027968112867138234, -0.006083311052225963, 0.007250018423580798, 0.00803877786438952, 0.015157336381168864, 0.041146975043242, -0.00108865299348381, -0.028132436819317475, -0.6516208653845666, 0.014250262651709802, -0.0026078375542714113, -0.035073526231427746, 0.026423458030898576, 0.03672992068459704, 0.02324212530607115, 0.0026637080612281583, -0.03620408105739122, -0.02250595020051204, -0.011305558504183057, 0.01745788568151688, 0.028447940968169994, -0.014973292139117798, -0.010503653445223218, -0.0045386562159863055, -0.0022857605963433345, -0.005189382940918017, -0.011614490309621306, 0.028763445117022512, 0.014631496753963049, 0.023347293976570375, -0.0012414752282727576, -0.016958339153258447, 0.0013852596759598307, 0.0145263290147864, -0.02286089213514048, -0.02219044605165952, 0.023097520712441158, 0.0034508246490139575, -0.0218092110180837, 0.01258072071774425, -0.0067964815588512665, -0.009162761278261298, 0.03872811052292108, 0.02697558889440662, -0.012475552978567601, 0.04098922390013832, 0.03859665247876477, 0.020915284769420905, -0.005777666349817424, -0.012166622104451926, 0.02363650502647551, -0.013921612884706168, -0.002014624422150014, 0.014131948363059465, 0.0016432498827560701, 0.003519841239783107, -0.0022709711938467205, -0.021796066331255158, 0.0068227732608147846, -0.007079120265342135, 0.010063261732983515, 0.004420341927335967, 0.008538326255293105, -0.0008388790308626614, 0.018259791671799294, -0.0022627550660869514, -0.0004987263241078524, 0.0030531582912411734, 0.024359535445206085, 0.008400293073754806, -0.032496910568003134, -0.0104247769423488, -0.018338669105996287, 0.024425266329929387, -0.004831154368921154, -0.031839609171350716, -0.009695174180203959, -0.02153314651765225, 0.0057185096711535426, 0.015564862651046917, -0.012252070950740615, -0.005195956215654863, 0.005080928564372946, 0.043118875507908966, 0.022795161250417178, -0.01706350596111252, -0.008203103213552625, 0.012179767722603043, 0.03320679443726001, -0.0005061209671484986, -0.03389038520756951, -0.013238021183074093, 0.03778159993900867, -0.006250922573096203, -0.01348779444720331, -0.0037959071371984174, -0.0037860476907544374, -0.017615638687265716, 0.008814392618369703, 0.03725576031180285, -0.009024728096723, -0.020560342834792463, -0.01281734836372235, 0.006881930405139954, -0.011739376941685914, 0.017326425774715427, 0.009011582478571884, -0.017510470016766495, -0.01664283500440593, 0.0015635521862008347, 0.0007986194111216519, 0.025858178755271688, -0.003008790549412618, 0.009787196301229492, 0.0019866891686716407, 0.03620408105739122, 0.029131533601124644, -0.02792210134096418, -0.00042149357647510344, -0.015367672790844736, -0.006855638237515149, -0.00951770321288974, 0.008104507817790247, -0.019022259876305788, -0.0008208032820359294, 0.008669786162094559, 0.008742089390232131, -0.015880366799899435, 0.029262993507926098, 0.02694929765810439, 0.004781857136701252, -0.0015561576013678495, 0.018443835913850362, 0.003950372807086899, 0.0012472266108368535, -0.03302275019520895, -0.0014559193525825478, -0.014539474632937517, -0.002193738475317802, -0.00510393409462933, -2.020683861483781e-05, -0.01747103223099057, 0.015354526241371045, 0.0109374709514035, 0.03165556492929965, -0.04543257135773067, 4.9015063307442084e-05, -0.021848650666504772, -0.02324212530607115, -0.0013704703898785382, 0.028579400874971447, -0.0034935490721583013, 0.009425681091864205, -0.013040830391549338, -0.022979205492468242, 0.00012765996517485897, -0.01937720181093423, -0.0067504704983385, -0.00784158800418734, -0.008643493994469753, -0.019311472788856077, -0.015039023023841101, 0.006658448377312967, -0.009866071872781334, -0.02736996861481098, -0.02191437968858292, -0.005823677410330191, 0.0064875502190743055, 0.013592963117702533, 0.014605204586338244, -0.0038254857093610022, 0.0032076237282990102, -0.0013376054131781748, 0.002588118428552807, 0.024017740060051335, 0.0034968357095267236, -0.022374490293710587, -0.02481964605033375, 0.00547859492214573, -0.028106145583015243, -0.0032109101328367893, 0.038044519752611576, -0.009695174180203959, 0.0018749480383428256, -0.002300549766009305, -0.003740036630241671, 0.018299229457575217, -0.002109932714882682, 0.0012110751131833894, -0.007716701372122731, -0.022597972321537572, 0.010332754821323268, 0.020547196285318772, -0.013408918875651469, 0.018246646984970756, 0.032970163997314186, -0.026844128987605166, -0.007992766803876753, 0.020165961251742952, 0.019837312416061893, 0.010128991686384241, -0.004065399992707526, -0.01977158153133859, -0.01945607738248607, -0.006191765428771034, 0.016918899504837374, 0.024425266329929387, -0.0031320340956236593, -0.0007752031094018768, 0.011857691230336254, 0.0064053880101540405, -0.003914221193018113, 0.03533644604503065, -0.02487223038558336, 0.017931142836118234, -0.02654177138822634, 0.03073534558168947, 0.029184117936374255, 0.007302602293169122, -0.01467093453973897, 0.004998765889791394, 0.006372523033453677, 0.0234524626470696, 0.03233915569960915, 0.0038977887046679305, 0.010865167723265928, 0.008124227642000784, -0.004824581559845597, 0.021585730852901865, -0.014289700437485724, 0.03352229672346738, -0.0007698625565088339, -0.02079696954944799, -0.005373427182969083, 0.019232595354659085, 0.00259633478914322, 0.01845698246332405, -0.0201002322296648, -0.006921368190915876, 0.01381644514552952, 0.010240732700297735, 0.02531919444123733, -0.026909859872328468, -0.022032693045910684, 0.015393964958469541, -0.0021263652032328636, 0.03005175294873482, 0.016169577849804575, 0.0023514905497440614, 0.050559509585632524, 0.0015947739606323086, -0.009741185240716725, -0.01568317600837468, 0.01224549767600377, 0.021664606424453704, 0.010444495835236762, -0.023071227613493776, -0.000432996341603295, -0.02831648106136854, -0.015946095821977587, -0.04067372161393095, 0.012738472792170509, 0.00987264514751818, 0.00596171059186849, 0.029157824837426873, 0.0059781428473880275, 0.030866805488490925, 0.03533644604503065, 0.0019587539151932677, 0.007618106442021641, -0.006707746075194157, 0.00493632257375909, 0.00973461196597988, 0.010654832244912633, -0.00604058662908162, -0.027080757564905845, -0.011877410123224214, 0.02626570502514974, -0.014815540996014115, 0.013777006428431025, -0.016905754818008836, -0.014500036847161595, -0.014802394446540424, -0.024425266329929387, -0.024096615631603178, 0.009287647910325908, 0.008288552059841314, 0.0036808797187471453, 0.012054881090538434, -0.045590322500834356, -0.008071643306751171, 0.0028921198122771347, 0.010569383398623945, 0.015617446054973953, -0.026686377844501483, 0.007190861279255628, -0.0007374083512718622, 0.00029886607104382827, 0.003021936400394377, 0.0012735186620463374, 0.014079364959132428, 0.014421160344287177, -0.019981918872337037, 0.022992352041941933, 0.010891459890890734, 0.001355681103797246, 0.009478265427113818, -0.0005636346763741347, -0.0006733216001400248, 0.002841179028542378, -0.04038450870138066, 0.010168430403482738, 0.01701092162586291, 0.01368498430740549, -0.016669126240708158, -0.0010303176249160683, 0.003753182714054074, -0.03683508935509626, 0.0016843311036315244, 0.0019012400895523096, -0.010654832244912633, -0.0017599206198915536, 0.017536763115713873, 0.004002956676675222, 0.004492645155473539, 0.018943384304753945, 0.01970585250926044, 0.013040830391549338, -0.022321905958460973, 0.006546707363399474, -0.0030531582912411734, 0.008275406441690197, 0.07940183586214233, -0.014302846986959415, -0.008334563120354079, 0.012008870030025667, -0.001589022578068213, -0.02792210134096418, -0.018286084770746676, -0.015328235005068814, 0.015788344678873904, -0.012390104132278913, 0.009465118877640127, -0.014500036847161595, 0.02115191148407643, -0.004348039164859683, -0.026830984300776628, -0.0109374709514035, -0.0030548013770947406, -0.010536517956262294, -0.0035921442350900354, -0.014618350204489358, -0.02630514281092566, 0.03410072254856796, -0.0025799023007930383, 0.01635362209185564, 0.019298326239382387, -0.017773389830369402, 0.0020540622079259353, 0.04913974184711876, -0.0005566508630045413, -0.03215511145755808, -0.01210746449446547, 0.007151423493479707, -0.00032885538556597435, 0.01054309123099914, -0.017129236845835824, -0.01697148384008699, -0.011844544680862563, 0.03157668935774781, 0.011653928095397227, -0.0011075503434449868, 0.01565688477207245, 0.021388540061377106, 0.01602497325617458, -0.03680879625614888, 0.012521564039080366, -0.0029512767237716603, -0.000361104146863589, 0.0104247769423488, 0.010996627630067382, 0.012554428550119442, 0.04275078702380683, 0.0023153389356752752, -0.010569383398623945, 0.0008553115192128432, 0.040437091173985126, 0.0004453207078659313, -0.01451318246531271, 0.0028904764935929234, -0.032181404556505463, -0.026423458030898576, -0.0011962859435174188, -0.006158900452070671, -0.00485744653654596, -0.026121100431519745, -0.03070905248274209, -0.015288796287970318, -0.0025075993054861096, 0.011174098597381603, -0.01699777693903437, -0.0028214599028237738, -0.027738057098913114, -0.016274746520303796, -0.022689994442563106, 0.008735516115495286, 0.02627885157462343, -0.005918986168724146, 0.007210580172143589, -0.00815709215303986, 0.01705036127428398, 0.005238680638799206, -0.014066218409658738, -0.015564862651046917, 0.008288552059841314, -0.00959657878444158, -0.011062357583468109, 0.011719658048797954, 0.005909126256618878, -0.018115187078169302, -0.008794672794159167, 0.010615394459136712, 0.034311056164276106, 0.0027705193519196613, 0.02287403868461417, -0.006888503214215512, 0.0006848243652682163, -0.004052253908895124, 0.02017910780121664, -0.010674551137800593, -0.005514746536214516, -0.02211157048010768, 0.015959242371451278, 0.006421820265673579, -0.012863359424235117, -0.030130628520286664, -0.014552620251088631, -0.014644642372114164, -0.0016941905500755046, -0.006523701833143092, -0.0013104917026265852, 0.004584667276499072, 0.03914878520491797, -0.008032205520975251, -0.0022545387054965387, -0.002164160135985861, -0.01573576034362429, 0.007532657130071666, -0.004154135476364637, 0.04658941928264153, -0.013316896754625935, -0.012810776020308081, 0.01674800181226, -0.02771176586261088, 0.041462481054739674, 0.005373427182969083, -0.031918484742902556, 0.019692705959786748, -0.004117984327957138, -0.02393886448849949, 0.004808148838664771, 0.013947905052330975, 0.002039273038259965, 0.03034096586128511, -0.008932705975697466, -0.00993180182618206, -0.029184117936374255, 0.005403005522301023, -0.015762051579926523, -0.004808148838664771, 0.005005339164528239, -0.009405962198976246, -0.02963108199202823, 0.01141072717468228, 0.0004892776491272641, -0.02897378059537581, 0.022992352041941933, -0.052583996248194244, 0.0008093005751153988, 0.024793352951386367, -0.010148710579272203, 0.040042713316225914, 0.004979046996903433, -0.0033275808699722727, -0.023123811948743387, 0.013047403666286183, 0.014657788921587854, -0.04280337322170159, -0.02343931609759591, 0.005580476489615243, 0.014237117033558688, 0.03993754464572669, 0.051032766740233874, 0.005238680638799206, 0.020363152043267708, -0.00011810858277650736, -0.006234489851915378, 0.011246401825519175, 0.0006355269002176711, -0.0038452046022489626, -0.039858669074174846, 0.012258644225477459, 0.010115846068233127, 0.008130799985415053, -0.008222822106440587, -0.01277133823453216, -0.0038090532210108205, 0.0002768875858612467, 0.018838215634254724, -0.017300134538413198, -0.0030630177376851538, -0.006014294461456814, 0.0017155528780629984, 0.006310079251760085, 0.0026209834052531703, 0.02416234651632648, -0.0037926207326606388, 1.327437804463138e-05, 0.00022122250829194172, 0.004052253908895124, 0.00570536358734114, 0.015117898595392943, 0.02588447185421907, -0.03339083867931108, 0.029078949265875034, -0.007696982479234771, -0.016774294911207382, 0.0013310323712719735, 0.016853170482759226, -0.012699035006394587, -0.007690409204497925, 0.021322809176653804, 0.040331922503485905, 0.02115191148407643, 0.018023164957143768, 0.0032339156630931724, 0.010234160356883465, 0.0015454764955817634, -0.022900329920916403, 0.0076772631206855225, -0.01085859537985166, -0.025476945584341017, -0.0014222327165400786, -0.0005599373839576421, -0.011220109657894368, -0.03683508935509626, 0.006642015656132142, 0.02797468567621379, -0.005416151606113426, 0.017668223022515327, -0.036388125299442284, -0.02554267646906432, -0.007118558516779344, -0.016629688454932238, 0.025529529919590628, -0.0006170403217198862, 0.01875934006270288, 0.009359951138463479, 0.0009801985005234175, -0.031024556631594608, 0.0022972633614715262, 0.01518362854879367, 0.005554184321990438, 0.024333244208903853, 0.04303999993635712, -0.004933035936390667, -0.01803630964397231, 0.026765253416053323, -0.015762051579926523, 0.012114037769202316, -0.02626570502514974, -0.002001478338337611, -0.01798372717136785, -0.005097360819892484, -0.013974196288633205, 0.014486890297687904, -0.00030790394545719436, -0.0017056933152036961, 0.0012924160120075141, -0.0025059559868018983, -0.026765253416053323, -0.03683508935509626, -0.020612925307396925, 0.0004843478968014434, -0.04240899163865208, 0.016590250669156318, 0.0010089554133438964, -0.0057842396245542695, 0.007111985242042498, 0.010135564961121087, -0.010004105054319633, 0.018864508733202102, -0.0028937628981307024, 0.004587953448206207, 0.010043542840095555, 0.011995723480551976, -0.0006010186048330964, 0.0001856872260412263, -0.0045386562159863055, -0.013737568642655103, 0.021940672787530303, 0.022729432228339026, -0.02081011609892168, -0.010628540077287826, 0.012745046066907354, 0.015407110576620657, -0.00018979536268068698, -0.022045839595384375, -0.020297421158544406, -0.017247550203163587, -0.02963108199202823, -0.02688356677338109, 0.016051264492476812, -6.968406529333087e-05, 0.009011582478571884, -0.012574147443007404, -0.012068026708689549, -0.012015443304762513, -0.04353954646461555, -0.0048738792577267855, 0.029788833135131913, -0.0221510082658836, -0.025963347425770913, -0.0035231276443208857, -0.006533561279587072, 0.003661160593028541, 0.012699035006394587, -0.010004105054319633, 0.022216737287961752, 0.03173444050085149, 0.00345411128638238, 0.01697148384008699, -0.008268833166953352, -0.01177224145272499, -0.018575295820651816, 0.005577189852246821, -0.019548099503511603, -0.016051264492476812, -0.0030613744190009424, -0.025187734534435877, -0.01979787463028597, -0.005186096303549595, -0.0006593539734008381, 0.0018864508034710172, -0.007355186162757445, -0.01159477048541077, 0.00460109953201861, 0.002540464282186473, -0.0014509896293605576, -0.01176566910931072, -0.026844128987605166, 0.004170568197545462, 0.0047062677368565455, 0.003947086169718476, 0.03567824143018541, -0.02191437968858292, -0.012593867267217939, -0.010490506895749527, 0.024175491203155017, 0.010411631324197685, -0.015551716101573226, -0.014841832232316344, 0.0017155528780629984, 0.01192342118373698, -0.03733463588335469, -0.002630843084527795, -0.009642589844954348, -0.0013589676247503467, -0.017339572324189118, 0.004607672341094168, 0.008479169576629223, -0.014486890297687904, 0.015301942837444009, 0.03991125154677931, 0.015880366799899435, 0.009984386161431673, 0.017155528082138053, -0.009938375100918906, 0.0018207208500702903, -0.01447374467953679, -0.01127269399314398, -0.001810861287210988, 0.023005498591415624, 0.0322602801280573, -0.005136799071329693, -0.02017910780121664, 0.0028444654330801573, 0.007302602293169122, -0.03914878520491797, -0.025476945584341017, -0.0018059315639889979, 0.02349190043284552, 0.01705036127428398, 0.011101796300566605, 0.00486730598298994, 0.033049039568866026, 0.009695174180203959, 0.019679559410313057, 0.009386243306088286, 0.007611533167284796, -0.005708649759048274, 0.005679071419716334, 0.0019686133616372476, -0.021782919781781467, -0.04267191145225499, -0.04414426538866351, 0.02430695110995647, -0.02942074465102978, -0.019272035003080154, 0.026844128987605166, 0.02587132530474538, -0.018890799969504334, -0.02012652346596703, 0.008341136395090924, 0.005991288931200431, 0.023426169548122218, 0.01227836311836542, -0.018693611040624728, -0.027107048801208074, -0.0076509714187220045, -0.0022496089822745483, -0.01986360365236412, -0.011555332699634848, 0.011003200904804228, -0.0026998594424663003, -0.0016399633618029692, -0.008137373260151898, 0.00010978963118365329, -0.023058081064020085, 0.0032141967702052116, 0.01417138708015796, 0.003273353681699737, -0.006109602754189481, 0.030498717004388793, -0.013974196288633205, 0.00580395851744223, -0.023426169548122218, -0.002027770273131773, -0.009760904133604685, -0.0060504460755256, -0.006707746075194157, -0.0307616368179917, -0.00011204909978699481, -0.0006499052984202497, 0.015157336381168864, -0.017497323467292804, 0.01074028109120132, -0.0044532069040363305, -0.006888503214215512, -0.0208495538846976, 0.0259764939752446, 0.003766328565035833, -0.034205887493776885, -0.002080354375550741, 0.011542187081483734, 0.0026341294890655734, -0.01765507647304164, -0.011029493072429033, 0.016945192603784756, -0.02834277416031592, -0.008111081092527093, 0.002067208291738338, 0.005038204141228603, -0.014565766800562322, 0.010930897676666655, 0.0201002322296648, -0.015485986148172499, -0.02074438521419838, 0.17773389830369402, 0.011956285694776055, 0.004292168657902936, 0.04495931420312932, 0.013021111498661376, -0.013671838689254376, 0.03620408105739122, -0.012232352057852653, -0.015906658036201667, 0.001939034789474663, -0.0005632239049107428, 0.00621805759639584, 0.0064875502190743055, 0.010201294914521814, 0.008058497688600057, -0.0201002322296648, -0.025043128078160733, -0.02326841840501853, -0.010240732700297735, -0.019061697662081708, 0.004081832713888353, 0.013099988001535794, -0.0019801161267654394, -0.043881345575060605, -0.007210580172143589, -0.012764764959795314, 0.005853255749662132, -0.003117244925957689, 0.00025141722309769893, -0.001837153338420472, -0.016051264492476812, -0.019732143745562668, 0.0006158078909143887, -0.0005702077182803361, -0.017194965867913973, 0.002272614512530932, 0.011522468188595774, -0.004785143774069675, 0.01680058614750961, 0.030893096724793154, 0.007006817502865851, 0.009484837770528089, -0.00031673640503503397, 0.006967379251428642, -0.034968357560928524, 0.017326425774715427, -0.026804691201829246, -0.024359535445206085, 0.013257740075962053, 0.0018223640523391796, -0.02384684236747396, -0.01878563129900511, 0.011318705053656748, 0.013211729015449288, -0.009287647910325908, 0.025398070012789174, 0.006914795381840318, -0.00492646312731511, -0.008722370497344171, -0.003970091699974859, -0.007808723027486976, 0.024714477379834524, -0.013987342838106894, 0.04267191145225499, -0.004085118885595487, 0.008853830404145625, -0.03857035937981739, 0.015446548362396577, 0.018220353886023374, -0.022624263557839804, -0.0030580880144631633, 0.0017878558733699268, 0.00023313607398735566, 0.006375809205160812, -0.012745046066907354, -0.016458790762354864, 0.03073534558168947, 0.011660500438811497, 0.0307616368179917, 0.017878558500868624, -0.02120449581932604, -0.02393886448849949, 0.004489358518105117, -0.0021855223475580328, -0.02525346355651403, -0.024320097659430162, 0.014618350204489358, 0.007775858050786613, -0.01919315756888316, 0.019903041438140045, 0.0057185096711535426, -0.026778399965527014, 0.010694270030688553, -0.0012751618643152267, 0.0037729016069420343, 0.010464214728124721, -0.015433402744245463, -0.005255112894318744, -0.018233500435497065, -0.0054950276433265565, -0.02663379350925187, 0.007506365428108148, 0.012048307815801589, 0.0051795234944740365, -0.027107048801208074, 0.008150518878303014, 0.01847012901279774, 0.01482868661416523, 0.013093414726798949, -0.015446548362396577, -0.0010533231551724516, -0.025174587984962186, 0.00659271842391224, 0.0005398075449833068, 0.006540134554323917, -0.0012086102515723941, -0.0006774297222275702, 0.019837312416061893, 0.01447374467953679, 0.03686137872875334, -0.005176236857105614, -0.021178204583023812, 0.01881192439795249, 0.005238680638799206, 0.007815295836562534, 0.0026571350193219565, -0.013382626708026662, 0.009938375100918906, 0.0034869762630827437, -0.02359706724069959, 0.0020902138219947215, -0.01613014006402865, 0.0065269884705115135, -0.014092510577283543, 0.012804202745571236, -0.00904444698961096, 0.0019472510336497539, -0.004545229025061864, 0.007913891232324912, 0.009419107817127362, 0.007973047910988794, -0.00036048793146084026, 0.012495271871455561, -0.0010204581784720881, 0.008886694915184701, -0.027764350197860495, 0.0009284361738618772, 0.0018798778779801377, -0.0024928099029894956, -0.022058986144858066, -0.05358308930471111, 0.003357159442134857, 0.006287073721503702, -0.00598142948475645, -0.005518033173582939, 0.009208772338774065, 0.0025338912402802717, -0.006076737777489118, 0.018062602742919688, 0.0064974096655182854, -0.019114281997331322, -0.010976908737179422, 0.020047647894415186, -0.005534465429102477, -0.0032602075978873345, -0.022229883837435443, -0.16669125868179127, 0.023136958498217078, 0.03381150963601767, -0.003519841239783107, 0.016222162185054186, -0.032575786139554974, -0.005340562206268719, -0.004998765889791394, -0.02209842393063399, -0.010819156662753161, 0.009018154821986155, -0.03262836861215944, -0.02249280365103835, -0.01008955390060832, 0.019206304118356853, -0.020718093977896146, -0.008972143761473388, 0.003444251607107756, 0.022243030386909134, 0.027133341900155455, 0.033233083810917094, -0.002742584098441288, 0.013382626708026662, 0.0003187904660788067, -0.02450414190148123, 0.008433158516116458, 0.008084788924902287, 0.024385828544153464, 0.008768381557856936, -0.026068516096270134, -0.0038517776441551643, -0.020586634071094692, 0.031918484742902556, 0.004160708751101482, -0.0187987778484788, -0.0017139095593787872, -0.019061697662081708, -0.025358632227013254, 0.004193573727801846, 0.007769285241711056, 0.007532657130071666, 0.01208117325816324, -0.0048903115132463235, -0.0012570861736961557, 0.01162763592777242, 0.0012899511503965191, 0.009162761278261298, -0.008130799985415053, -0.004190287090433423, -0.04364471513511478, 0.01706350596111252, -0.023360440526044066, 0.0007628787431392405, 0.007729847455935134, -0.00692794146565272, 0.002721221654038472, 0.011621062653035575, 0.01601182670670089, 0.0032043370909305875, -0.0003650068832194385, -0.004170568197545462, -0.020612925307396925, 0.015880366799899435, -0.00852518063714199, -0.0065434207260310516, -0.018351813792824828, 0.008025632246238406, -0.02078382486261945, -0.02052090318637139, 0.005245253447874763, -0.004831154368921154, -0.0005315913008082159, 0.010411631324197685, -0.018259791671799294, -0.002119792394157306, 0.016445644212881173, -0.008985290310947079, -0.009971239611957982, 0.02186179535333331, 0.01549913269764619, -0.025398070012789174, 0.04122585061479385, -0.023413022998648527, -0.010608821184399866, -0.019692705959786748, 0.010779718876977241, -0.015854073700952053, 0.004134416583476676, -0.026489187052976728, -0.0012653024178712466, 0.012271789843628575, -0.03231286632595207, -0.01229808201125338, -0.026909859872328468, 0.005915699531355723, 0.027080757564905845, -0.02113876679724789, -0.02109932714882682, 0.03039354833388957, -0.0029611361702156407, -0.006973952526165487, -0.021756628545479238, 0.0015200061037143851, -0.006947660358540681, 0.016866317032232916, -0.015328235005068814, 0.02276887001411495, 0.028132436819317475, 0.028079852484067865, -0.00039088804655020866, -0.004131129946108253, 0.0034508246490139575, 0.011529040532010043, 0.018180916100247455, -0.0015898442374103186, 0.03757126259801022, -0.031156016538396062, -0.023781111482750656, 0.05915699531355723, 0.0006166294920488334, 0.024451557566231616, -0.008834111511257663, -0.028027270011463403, -0.001996548615115621, 0.019850458965535583, 0.015052168641992216, -0.10748168834621019, -0.03373263406446583, 0.008978717036210233, 0.022676847893089415, -0.02217729950218583, 0.007992766803876753, -0.005518033173582939, 0.008715797222607326, 0.0056724986106407764, 0.03683508935509626, 0.00803877786438952, -0.019219450667830543, 0.00659271842391224, -0.015131044213544059, -0.002791881563491833, -0.011082077407678645, -0.000960479549427796, -0.01944293269565753, -0.017549907802542414, 0.01054309123099914, 0.0019456078313808646, 0.003021936400394377, -0.008991863585683924, -0.003776188244310457, -0.007913891232324912, 0.0029052656632588937, -0.035914868144840933, 0.02042888292799101, 0.029105240502177263, -8.226519282441757e-05, 0.010326182477908999, -0.014749811042613388, -0.015301942837444009, -0.022716285678865335, 0.0013696487305364326, 0.007591814274396835, -0.032128822083901006, -0.007696982479234771, 0.010871740998002774, -0.033548589822414765, 0.007664117502534407, -0.004131129946108253, -0.02418863775262871, -0.018522711485402202, -0.014289700437485724, -0.024845937286635977, -0.011831399062711447, 0.015012730856216296, -0.0029463470005496703, -0.0018322236151984818, -0.026068516096270134, -0.023754820246448427, -0.017155528082138053, 0.010115846068233127, 0.012751618410321623, 0.0007567165309040919, -0.003891215662761729, 0.0035888575977216126, 0.01040505804946084, 0.024372681994679776, -0.005909126256618878, -0.011147807361079372, 0.00504477695030416, 0.03094568106004277, 0.00475885160644487, 0.009984386161431673, 0.00920219906403722, -0.00839371979901796, 0.03578341010068463, -0.038228563994662644, -0.012357238689917262, 0.007407770498007058, -0.02960478889308085, 0.01731328108788689, -0.017221258966861355, -0.009977812886694828, -0.01903540642577948, -0.01680058614750961, 0.007749566348823095, -0.018995968640003556, -0.018010018407670077, -0.017339572324189118, -0.012758191685058469, -0.01396105067048209, 0.02694929765810439, -0.022834599036193098, -0.021927526238056612, -0.008314844227466119, 0.0003508338416447254, -0.0027885949261234103, 0.007611533167284796, 0.03126118334625014, 0.01678743959803592, -0.015157336381168864, -0.017300134538413198, 0.00012622213408575026, -0.009859499529367065, -0.008991863585683924, 0.0027721624377732286, 0.018259791671799294, -0.0109374709514035, -0.018680464491151037, -0.02900007369432319, 0.0333645455803637, 0.017194965867913973, 0.008420011966642767, 0.027501428521612435, -0.0036052900860717944, 0.021020451577274977, -0.019679559410313057, 0.0034508246490139575, 0.027185926235405066, -0.0369139649266481, -0.0017451313338102611, 0.003003860826190628, 0.014263408269860918, -0.01601182670670089, -0.026436602717727114, -0.0074735004514077845, 0.012252070950740615, 0.007894172339436952, 0.017549907802542414, 0.01568317600837468, -0.0056724986106407764, 0.03375892343812291, 0.021651459874980013, -0.00580395851744223, 0.012856787080820846, -0.016945192603784756, 0.03147152068724858, -0.027475137285310206, -0.005251826722611609, 0.02382054926852658, -0.026410311481424885, -0.018496420249099973, 0.001541368315286557, 0.011548760356220579, -0.008722370497344171, -0.011450164960458201, 0.030525008240691025, -0.0011609559887907385, 0.03893844786391952, -0.021230788918273423, -0.04514335844518038, -0.0018798778779801377, -0.030183212855536275, -0.005166377410661634, 0.004581380639130649, -0.020047647894415186, 0.0002855146597073904, -0.0010664691225695324, -0.004633964508718973, 0.019929334537087423, 0.021572584303428174, -0.01447374467953679, -0.01263330505299386, -0.012002296755288822, -0.032102528984953624, 0.029841417470381524, 0.021257080154575652, 0.013579816568228842, -0.031024556631594608, 0.01613014006402865, 0.0018355100197362606, 0.03538902851763512, -0.00486730598298994, -0.0016021685454652938, -0.017825974165619013, 0.0019308185452995722, 0.020231692136466254, 0.032207697655452845, -0.015604300436822838, -0.018351813792824828, -0.024688186143532295, 0.01291594375948473, -0.013172290298350792, 0.010746854365938165, -0.0008906414157318626, 0.0015315088688425769, 0.013277458968850015, -0.019337764025158306, 0.02253224143681427, 0.015959242371451278, 0.0340481363506732, -0.04871907089041217, -0.002653848614784178, 0.018680464491151037, 0.020626071856870615, -0.00888012257177043, 0.020586634071094692, -5.7359688116758145e-05, 0.008084788924902287, -0.026042222997322752, -0.0073420400789450425, -0.007907317957588067, -0.007282883400281161, 0.018614733606427736, 0.0455377400282299, -0.005997861740275988, 0.007256591232656355, 0.03383779900967475, 0.014026780623882816, 0.0048903115132463235, -0.018864508733202102, 0.010155283854009047, -0.022913476470390094, -0.01368498430740549, -0.0006347052408755654, 0.013356334540401856, -0.025358632227013254, -0.0242017843021024, 0.010306462653698462, 0.020231692136466254, -0.011174098597381603, -0.009445399984752167, -0.0020754246523287507, -0.005396432713225466, 0.028211314253514468, 0.0002629199882258905, -0.01295538154526065, -0.041146975043242, 0.017510470016766495, -0.0029742822540280434, 0.023675944674896584, 0.0022052412404459936, -0.004795003220513656, 0.044906731730524854, 0.000662229664682886, -0.012672742838769782, -0.029157824837426873, 0.0302883815260355, -0.011713084774061109, -0.009412535473713091, -0.020047647894415186, -0.006556566809843455, 0.0038945020672995078, -0.01986360365236412, -0.010319609203172153, -0.012429541918054834, 0.045117069071523304, 0.00785473455366103, 0.05431926627291537, 0.0037926207326606388, -0.009136469110636493, 0.029841417470381524, -0.009728038691243035, -0.002022840549909783, 0.028737153880720283, 0.003976664509050417, -0.00407854607651993, 0.013908466335232478, 0.018535858034875893, -0.0003923258921912326, 0.028816029452272126, -0.010628540077287826, -0.005054636396748141, -0.004781857136701252, -0.023058081064020085, -0.014329138223261645, -0.02287403868461417, 0.006034013354344774, 0.023321000877622993, -0.009386243306088286, 0.0544244349434146, -0.006967379251428642, -0.028053561247765632, 0.012994819331036571, 0.02182235756755739, 0.0005771915316499294, -0.030630176911190247, -0.03399555387806874, -0.007374905521306694, 0.005964996763575625, -0.02104674467622236, -0.04432830963071458, 0.0072040073630680315, 0.0026867135914845413, -0.003483689625714321, 0.008314844227466119, 0.00514337188040525, 0.011312131778919902, 0.002287403682196902, 0.013974196288633205, -0.006967379251428642, -0.006803054367926825, 0.002574972577571048, -0.006388955288973215, 0.00047941814447562283, -0.0045090774109930775, -0.05050692711302806]\n"
          ]
        }
      ]
    },
    {
      "cell_type": "code",
      "source": [
        "pip install langchain_chroma chromadb"
      ],
      "metadata": {
        "colab": {
          "base_uri": "https://localhost:8080/"
        },
        "id": "Dklx3kBUpfQ-",
        "outputId": "fcf91ee1-5d08-45f9-8d2a-53c0d01a561e"
      },
      "execution_count": null,
      "outputs": [
        {
          "output_type": "stream",
          "name": "stdout",
          "text": [
            "Collecting langchain_chroma\n",
            "  Downloading langchain_chroma-0.1.1-py3-none-any.whl (8.5 kB)\n",
            "Collecting chromadb\n",
            "  Downloading chromadb-0.5.2-py3-none-any.whl (559 kB)\n",
            "\u001b[2K     \u001b[90m━━━━━━━━━━━━━━━━━━━━━━━━━━━━━━━━━━━━━━━━\u001b[0m \u001b[32m559.5/559.5 kB\u001b[0m \u001b[31m6.7 MB/s\u001b[0m eta \u001b[36m0:00:00\u001b[0m\n",
            "\u001b[?25hCollecting fastapi<1,>=0.95.2 (from langchain_chroma)\n",
            "  Downloading fastapi-0.111.0-py3-none-any.whl (91 kB)\n",
            "\u001b[2K     \u001b[90m━━━━━━━━━━━━━━━━━━━━━━━━━━━━━━━━━━━━━━━━\u001b[0m \u001b[32m92.0/92.0 kB\u001b[0m \u001b[31m7.0 MB/s\u001b[0m eta \u001b[36m0:00:00\u001b[0m\n",
            "\u001b[?25hRequirement already satisfied: langchain-core<0.3,>=0.1.40 in /usr/local/lib/python3.10/dist-packages (from langchain_chroma) (0.2.8)\n",
            "Requirement already satisfied: numpy<2,>=1 in /usr/local/lib/python3.10/dist-packages (from langchain_chroma) (1.25.2)\n",
            "Requirement already satisfied: build>=1.0.3 in /usr/local/lib/python3.10/dist-packages (from chromadb) (1.2.1)\n",
            "Requirement already satisfied: requests>=2.28 in /usr/local/lib/python3.10/dist-packages (from chromadb) (2.31.0)\n",
            "Requirement already satisfied: pydantic>=1.9 in /usr/local/lib/python3.10/dist-packages (from chromadb) (2.7.3)\n",
            "Collecting chroma-hnswlib==0.7.3 (from chromadb)\n",
            "  Downloading chroma_hnswlib-0.7.3-cp310-cp310-manylinux_2_17_x86_64.manylinux2014_x86_64.whl (2.4 MB)\n",
            "\u001b[2K     \u001b[90m━━━━━━━━━━━━━━━━━━━━━━━━━━━━━━━━━━━━━━━━\u001b[0m \u001b[32m2.4/2.4 MB\u001b[0m \u001b[31m14.4 MB/s\u001b[0m eta \u001b[36m0:00:00\u001b[0m\n",
            "\u001b[?25hCollecting uvicorn[standard]>=0.18.3 (from chromadb)\n",
            "  Downloading uvicorn-0.30.1-py3-none-any.whl (62 kB)\n",
            "\u001b[2K     \u001b[90m━━━━━━━━━━━━━━━━━━━━━━━━━━━━━━━━━━━━━━━━\u001b[0m \u001b[32m62.4/62.4 kB\u001b[0m \u001b[31m7.6 MB/s\u001b[0m eta \u001b[36m0:00:00\u001b[0m\n",
            "\u001b[?25hCollecting posthog>=2.4.0 (from chromadb)\n",
            "  Downloading posthog-3.5.0-py2.py3-none-any.whl (41 kB)\n",
            "\u001b[2K     \u001b[90m━━━━━━━━━━━━━━━━━━━━━━━━━━━━━━━━━━━━━━━━\u001b[0m \u001b[32m41.3/41.3 kB\u001b[0m \u001b[31m4.9 MB/s\u001b[0m eta \u001b[36m0:00:00\u001b[0m\n",
            "\u001b[?25hRequirement already satisfied: typing-extensions>=4.5.0 in /usr/local/lib/python3.10/dist-packages (from chromadb) (4.12.2)\n",
            "Collecting onnxruntime>=1.14.1 (from chromadb)\n",
            "  Downloading onnxruntime-1.18.0-cp310-cp310-manylinux_2_27_x86_64.manylinux_2_28_x86_64.whl (6.8 MB)\n",
            "\u001b[2K     \u001b[90m━━━━━━━━━━━━━━━━━━━━━━━━━━━━━━━━━━━━━━━━\u001b[0m \u001b[32m6.8/6.8 MB\u001b[0m \u001b[31m30.0 MB/s\u001b[0m eta \u001b[36m0:00:00\u001b[0m\n",
            "\u001b[?25hCollecting opentelemetry-api>=1.2.0 (from chromadb)\n",
            "  Downloading opentelemetry_api-1.25.0-py3-none-any.whl (59 kB)\n",
            "\u001b[2K     \u001b[90m━━━━━━━━━━━━━━━━━━━━━━━━━━━━━━━━━━━━━━━━\u001b[0m \u001b[32m59.9/59.9 kB\u001b[0m \u001b[31m7.1 MB/s\u001b[0m eta \u001b[36m0:00:00\u001b[0m\n",
            "\u001b[?25hCollecting opentelemetry-exporter-otlp-proto-grpc>=1.2.0 (from chromadb)\n",
            "  Downloading opentelemetry_exporter_otlp_proto_grpc-1.25.0-py3-none-any.whl (18 kB)\n",
            "Collecting opentelemetry-instrumentation-fastapi>=0.41b0 (from chromadb)\n",
            "  Downloading opentelemetry_instrumentation_fastapi-0.46b0-py3-none-any.whl (11 kB)\n",
            "Collecting opentelemetry-sdk>=1.2.0 (from chromadb)\n",
            "  Downloading opentelemetry_sdk-1.25.0-py3-none-any.whl (107 kB)\n",
            "\u001b[2K     \u001b[90m━━━━━━━━━━━━━━━━━━━━━━━━━━━━━━━━━━━━━━━━\u001b[0m \u001b[32m107.0/107.0 kB\u001b[0m \u001b[31m12.4 MB/s\u001b[0m eta \u001b[36m0:00:00\u001b[0m\n",
            "\u001b[?25hRequirement already satisfied: tokenizers>=0.13.2 in /usr/local/lib/python3.10/dist-packages (from chromadb) (0.19.1)\n",
            "Collecting pypika>=0.48.9 (from chromadb)\n",
            "  Downloading PyPika-0.48.9.tar.gz (67 kB)\n",
            "\u001b[2K     \u001b[90m━━━━━━━━━━━━━━━━━━━━━━━━━━━━━━━━━━━━━━━━\u001b[0m \u001b[32m67.3/67.3 kB\u001b[0m \u001b[31m8.6 MB/s\u001b[0m eta \u001b[36m0:00:00\u001b[0m\n",
            "\u001b[?25h  Installing build dependencies ... \u001b[?25l\u001b[?25hdone\n",
            "  Getting requirements to build wheel ... \u001b[?25l\u001b[?25hdone\n",
            "  Preparing metadata (pyproject.toml) ... \u001b[?25l\u001b[?25hdone\n",
            "Requirement already satisfied: tqdm>=4.65.0 in /usr/local/lib/python3.10/dist-packages (from chromadb) (4.66.4)\n",
            "Collecting overrides>=7.3.1 (from chromadb)\n",
            "  Downloading overrides-7.7.0-py3-none-any.whl (17 kB)\n",
            "Requirement already satisfied: importlib-resources in /usr/local/lib/python3.10/dist-packages (from chromadb) (6.4.0)\n",
            "Requirement already satisfied: grpcio>=1.58.0 in /usr/local/lib/python3.10/dist-packages (from chromadb) (1.64.1)\n",
            "Collecting bcrypt>=4.0.1 (from chromadb)\n",
            "  Downloading bcrypt-4.1.3-cp39-abi3-manylinux_2_28_x86_64.whl (283 kB)\n",
            "\u001b[2K     \u001b[90m━━━━━━━━━━━━━━━━━━━━━━━━━━━━━━━━━━━━━━━━\u001b[0m \u001b[32m283.7/283.7 kB\u001b[0m \u001b[31m27.6 MB/s\u001b[0m eta \u001b[36m0:00:00\u001b[0m\n",
            "\u001b[?25hRequirement already satisfied: typer>=0.9.0 in /usr/local/lib/python3.10/dist-packages (from chromadb) (0.12.3)\n",
            "Collecting kubernetes>=28.1.0 (from chromadb)\n",
            "  Downloading kubernetes-30.1.0-py2.py3-none-any.whl (1.7 MB)\n",
            "\u001b[2K     \u001b[90m━━━━━━━━━━━━━━━━━━━━━━━━━━━━━━━━━━━━━━━━\u001b[0m \u001b[32m1.7/1.7 MB\u001b[0m \u001b[31m46.4 MB/s\u001b[0m eta \u001b[36m0:00:00\u001b[0m\n",
            "\u001b[?25hRequirement already satisfied: tenacity>=8.2.3 in /usr/local/lib/python3.10/dist-packages (from chromadb) (8.3.0)\n",
            "Requirement already satisfied: PyYAML>=6.0.0 in /usr/local/lib/python3.10/dist-packages (from chromadb) (6.0.1)\n",
            "Collecting mmh3>=4.0.1 (from chromadb)\n",
            "  Downloading mmh3-4.1.0-cp310-cp310-manylinux_2_5_x86_64.manylinux1_x86_64.manylinux_2_17_x86_64.manylinux2014_x86_64.whl (67 kB)\n",
            "\u001b[2K     \u001b[90m━━━━━━━━━━━━━━━━━━━━━━━━━━━━━━━━━━━━━━━━\u001b[0m \u001b[32m67.6/67.6 kB\u001b[0m \u001b[31m8.5 MB/s\u001b[0m eta \u001b[36m0:00:00\u001b[0m\n",
            "\u001b[?25hRequirement already satisfied: orjson>=3.9.12 in /usr/local/lib/python3.10/dist-packages (from chromadb) (3.10.5)\n",
            "Requirement already satisfied: httpx>=0.27.0 in /usr/local/lib/python3.10/dist-packages (from chromadb) (0.27.0)\n",
            "Requirement already satisfied: packaging>=19.1 in /usr/local/lib/python3.10/dist-packages (from build>=1.0.3->chromadb) (24.1)\n",
            "Requirement already satisfied: pyproject_hooks in /usr/local/lib/python3.10/dist-packages (from build>=1.0.3->chromadb) (1.1.0)\n",
            "Requirement already satisfied: tomli>=1.1.0 in /usr/local/lib/python3.10/dist-packages (from build>=1.0.3->chromadb) (2.0.1)\n",
            "Collecting starlette<0.38.0,>=0.37.2 (from fastapi<1,>=0.95.2->langchain_chroma)\n",
            "  Downloading starlette-0.37.2-py3-none-any.whl (71 kB)\n",
            "\u001b[2K     \u001b[90m━━━━━━━━━━━━━━━━━━━━━━━━━━━━━━━━━━━━━━━━\u001b[0m \u001b[32m71.9/71.9 kB\u001b[0m \u001b[31m7.7 MB/s\u001b[0m eta \u001b[36m0:00:00\u001b[0m\n",
            "\u001b[?25hCollecting fastapi-cli>=0.0.2 (from fastapi<1,>=0.95.2->langchain_chroma)\n",
            "  Downloading fastapi_cli-0.0.4-py3-none-any.whl (9.5 kB)\n",
            "Requirement already satisfied: jinja2>=2.11.2 in /usr/local/lib/python3.10/dist-packages (from fastapi<1,>=0.95.2->langchain_chroma) (3.1.4)\n",
            "Collecting python-multipart>=0.0.7 (from fastapi<1,>=0.95.2->langchain_chroma)\n",
            "  Downloading python_multipart-0.0.9-py3-none-any.whl (22 kB)\n",
            "Collecting ujson!=4.0.2,!=4.1.0,!=4.2.0,!=4.3.0,!=5.0.0,!=5.1.0,>=4.0.1 (from fastapi<1,>=0.95.2->langchain_chroma)\n",
            "  Downloading ujson-5.10.0-cp310-cp310-manylinux_2_17_x86_64.manylinux2014_x86_64.whl (53 kB)\n",
            "\u001b[2K     \u001b[90m━━━━━━━━━━━━━━━━━━━━━━━━━━━━━━━━━━━━━━━━\u001b[0m \u001b[32m53.6/53.6 kB\u001b[0m \u001b[31m4.9 MB/s\u001b[0m eta \u001b[36m0:00:00\u001b[0m\n",
            "\u001b[?25hCollecting email_validator>=2.0.0 (from fastapi<1,>=0.95.2->langchain_chroma)\n",
            "  Downloading email_validator-2.1.2-py3-none-any.whl (30 kB)\n",
            "Requirement already satisfied: anyio in /usr/local/lib/python3.10/dist-packages (from httpx>=0.27.0->chromadb) (3.7.1)\n",
            "Requirement already satisfied: certifi in /usr/local/lib/python3.10/dist-packages (from httpx>=0.27.0->chromadb) (2024.6.2)\n",
            "Requirement already satisfied: httpcore==1.* in /usr/local/lib/python3.10/dist-packages (from httpx>=0.27.0->chromadb) (1.0.5)\n",
            "Requirement already satisfied: idna in /usr/local/lib/python3.10/dist-packages (from httpx>=0.27.0->chromadb) (3.7)\n",
            "Requirement already satisfied: sniffio in /usr/local/lib/python3.10/dist-packages (from httpx>=0.27.0->chromadb) (1.3.1)\n",
            "Requirement already satisfied: h11<0.15,>=0.13 in /usr/local/lib/python3.10/dist-packages (from httpcore==1.*->httpx>=0.27.0->chromadb) (0.14.0)\n",
            "Requirement already satisfied: six>=1.9.0 in /usr/local/lib/python3.10/dist-packages (from kubernetes>=28.1.0->chromadb) (1.16.0)\n",
            "Requirement already satisfied: python-dateutil>=2.5.3 in /usr/local/lib/python3.10/dist-packages (from kubernetes>=28.1.0->chromadb) (2.8.2)\n",
            "Requirement already satisfied: google-auth>=1.0.1 in /usr/local/lib/python3.10/dist-packages (from kubernetes>=28.1.0->chromadb) (2.27.0)\n",
            "Requirement already satisfied: websocket-client!=0.40.0,!=0.41.*,!=0.42.*,>=0.32.0 in /usr/local/lib/python3.10/dist-packages (from kubernetes>=28.1.0->chromadb) (1.8.0)\n",
            "Requirement already satisfied: requests-oauthlib in /usr/local/lib/python3.10/dist-packages (from kubernetes>=28.1.0->chromadb) (1.3.1)\n",
            "Requirement already satisfied: oauthlib>=3.2.2 in /usr/local/lib/python3.10/dist-packages (from kubernetes>=28.1.0->chromadb) (3.2.2)\n",
            "Requirement already satisfied: urllib3>=1.24.2 in /usr/local/lib/python3.10/dist-packages (from kubernetes>=28.1.0->chromadb) (2.0.7)\n",
            "Requirement already satisfied: jsonpatch<2.0,>=1.33 in /usr/local/lib/python3.10/dist-packages (from langchain-core<0.3,>=0.1.40->langchain_chroma) (1.33)\n",
            "Requirement already satisfied: langsmith<0.2.0,>=0.1.75 in /usr/local/lib/python3.10/dist-packages (from langchain-core<0.3,>=0.1.40->langchain_chroma) (0.1.79)\n",
            "Collecting coloredlogs (from onnxruntime>=1.14.1->chromadb)\n",
            "  Downloading coloredlogs-15.0.1-py2.py3-none-any.whl (46 kB)\n",
            "\u001b[2K     \u001b[90m━━━━━━━━━━━━━━━━━━━━━━━━━━━━━━━━━━━━━━━━\u001b[0m \u001b[32m46.0/46.0 kB\u001b[0m \u001b[31m5.6 MB/s\u001b[0m eta \u001b[36m0:00:00\u001b[0m\n",
            "\u001b[?25hRequirement already satisfied: flatbuffers in /usr/local/lib/python3.10/dist-packages (from onnxruntime>=1.14.1->chromadb) (24.3.25)\n",
            "Requirement already satisfied: protobuf in /usr/local/lib/python3.10/dist-packages (from onnxruntime>=1.14.1->chromadb) (3.20.3)\n",
            "Requirement already satisfied: sympy in /usr/local/lib/python3.10/dist-packages (from onnxruntime>=1.14.1->chromadb) (1.12.1)\n",
            "Collecting deprecated>=1.2.6 (from opentelemetry-api>=1.2.0->chromadb)\n",
            "  Downloading Deprecated-1.2.14-py2.py3-none-any.whl (9.6 kB)\n",
            "Requirement already satisfied: importlib-metadata<=7.1,>=6.0 in /usr/local/lib/python3.10/dist-packages (from opentelemetry-api>=1.2.0->chromadb) (7.1.0)\n",
            "Requirement already satisfied: googleapis-common-protos~=1.52 in /usr/local/lib/python3.10/dist-packages (from opentelemetry-exporter-otlp-proto-grpc>=1.2.0->chromadb) (1.63.1)\n",
            "Collecting opentelemetry-exporter-otlp-proto-common==1.25.0 (from opentelemetry-exporter-otlp-proto-grpc>=1.2.0->chromadb)\n",
            "  Downloading opentelemetry_exporter_otlp_proto_common-1.25.0-py3-none-any.whl (17 kB)\n",
            "Collecting opentelemetry-proto==1.25.0 (from opentelemetry-exporter-otlp-proto-grpc>=1.2.0->chromadb)\n",
            "  Downloading opentelemetry_proto-1.25.0-py3-none-any.whl (52 kB)\n",
            "\u001b[2K     \u001b[90m━━━━━━━━━━━━━━━━━━━━━━━━━━━━━━━━━━━━━━━━\u001b[0m \u001b[32m52.5/52.5 kB\u001b[0m \u001b[31m6.4 MB/s\u001b[0m eta \u001b[36m0:00:00\u001b[0m\n",
            "\u001b[?25hCollecting opentelemetry-instrumentation-asgi==0.46b0 (from opentelemetry-instrumentation-fastapi>=0.41b0->chromadb)\n",
            "  Downloading opentelemetry_instrumentation_asgi-0.46b0-py3-none-any.whl (14 kB)\n",
            "Collecting opentelemetry-instrumentation==0.46b0 (from opentelemetry-instrumentation-fastapi>=0.41b0->chromadb)\n",
            "  Downloading opentelemetry_instrumentation-0.46b0-py3-none-any.whl (29 kB)\n",
            "Collecting opentelemetry-semantic-conventions==0.46b0 (from opentelemetry-instrumentation-fastapi>=0.41b0->chromadb)\n",
            "  Downloading opentelemetry_semantic_conventions-0.46b0-py3-none-any.whl (130 kB)\n",
            "\u001b[2K     \u001b[90m━━━━━━━━━━━━━━━━━━━━━━━━━━━━━━━━━━━━━━━━\u001b[0m \u001b[32m130.5/130.5 kB\u001b[0m \u001b[31m15.4 MB/s\u001b[0m eta \u001b[36m0:00:00\u001b[0m\n",
            "\u001b[?25hCollecting opentelemetry-util-http==0.46b0 (from opentelemetry-instrumentation-fastapi>=0.41b0->chromadb)\n",
            "  Downloading opentelemetry_util_http-0.46b0-py3-none-any.whl (6.9 kB)\n",
            "Requirement already satisfied: setuptools>=16.0 in /usr/local/lib/python3.10/dist-packages (from opentelemetry-instrumentation==0.46b0->opentelemetry-instrumentation-fastapi>=0.41b0->chromadb) (67.7.2)\n",
            "Requirement already satisfied: wrapt<2.0.0,>=1.0.0 in /usr/local/lib/python3.10/dist-packages (from opentelemetry-instrumentation==0.46b0->opentelemetry-instrumentation-fastapi>=0.41b0->chromadb) (1.14.1)\n",
            "Collecting asgiref~=3.0 (from opentelemetry-instrumentation-asgi==0.46b0->opentelemetry-instrumentation-fastapi>=0.41b0->chromadb)\n",
            "  Downloading asgiref-3.8.1-py3-none-any.whl (23 kB)\n",
            "Collecting monotonic>=1.5 (from posthog>=2.4.0->chromadb)\n",
            "  Downloading monotonic-1.6-py2.py3-none-any.whl (8.2 kB)\n",
            "Collecting backoff>=1.10.0 (from posthog>=2.4.0->chromadb)\n",
            "  Downloading backoff-2.2.1-py3-none-any.whl (15 kB)\n",
            "Requirement already satisfied: annotated-types>=0.4.0 in /usr/local/lib/python3.10/dist-packages (from pydantic>=1.9->chromadb) (0.7.0)\n",
            "Requirement already satisfied: pydantic-core==2.18.4 in /usr/local/lib/python3.10/dist-packages (from pydantic>=1.9->chromadb) (2.18.4)\n",
            "Requirement already satisfied: charset-normalizer<4,>=2 in /usr/local/lib/python3.10/dist-packages (from requests>=2.28->chromadb) (3.3.2)\n",
            "Requirement already satisfied: huggingface-hub<1.0,>=0.16.4 in /usr/local/lib/python3.10/dist-packages (from tokenizers>=0.13.2->chromadb) (0.23.3)\n",
            "Requirement already satisfied: click>=8.0.0 in /usr/local/lib/python3.10/dist-packages (from typer>=0.9.0->chromadb) (8.1.7)\n",
            "Requirement already satisfied: shellingham>=1.3.0 in /usr/local/lib/python3.10/dist-packages (from typer>=0.9.0->chromadb) (1.5.4)\n",
            "Requirement already satisfied: rich>=10.11.0 in /usr/local/lib/python3.10/dist-packages (from typer>=0.9.0->chromadb) (13.7.1)\n",
            "Collecting httptools>=0.5.0 (from uvicorn[standard]>=0.18.3->chromadb)\n",
            "  Downloading httptools-0.6.1-cp310-cp310-manylinux_2_5_x86_64.manylinux1_x86_64.manylinux_2_17_x86_64.manylinux2014_x86_64.whl (341 kB)\n",
            "\u001b[2K     \u001b[90m━━━━━━━━━━━━━━━━━━━━━━━━━━━━━━━━━━━━━━━━\u001b[0m \u001b[32m341.4/341.4 kB\u001b[0m \u001b[31m34.4 MB/s\u001b[0m eta \u001b[36m0:00:00\u001b[0m\n",
            "\u001b[?25hCollecting python-dotenv>=0.13 (from uvicorn[standard]>=0.18.3->chromadb)\n",
            "  Downloading python_dotenv-1.0.1-py3-none-any.whl (19 kB)\n",
            "Collecting uvloop!=0.15.0,!=0.15.1,>=0.14.0 (from uvicorn[standard]>=0.18.3->chromadb)\n",
            "  Downloading uvloop-0.19.0-cp310-cp310-manylinux_2_17_x86_64.manylinux2014_x86_64.whl (3.4 MB)\n",
            "\u001b[2K     \u001b[90m━━━━━━━━━━━━━━━━━━━━━━━━━━━━━━━━━━━━━━━━\u001b[0m \u001b[32m3.4/3.4 MB\u001b[0m \u001b[31m57.1 MB/s\u001b[0m eta \u001b[36m0:00:00\u001b[0m\n",
            "\u001b[?25hCollecting watchfiles>=0.13 (from uvicorn[standard]>=0.18.3->chromadb)\n",
            "  Downloading watchfiles-0.22.0-cp310-cp310-manylinux_2_17_x86_64.manylinux2014_x86_64.whl (1.2 MB)\n",
            "\u001b[2K     \u001b[90m━━━━━━━━━━━━━━━━━━━━━━━━━━━━━━━━━━━━━━━━\u001b[0m \u001b[32m1.2/1.2 MB\u001b[0m \u001b[31m62.2 MB/s\u001b[0m eta \u001b[36m0:00:00\u001b[0m\n",
            "\u001b[?25hCollecting websockets>=10.4 (from uvicorn[standard]>=0.18.3->chromadb)\n",
            "  Downloading websockets-12.0-cp310-cp310-manylinux_2_5_x86_64.manylinux1_x86_64.manylinux_2_17_x86_64.manylinux2014_x86_64.whl (130 kB)\n",
            "\u001b[2K     \u001b[90m━━━━━━━━━━━━━━━━━━━━━━━━━━━━━━━━━━━━━━━━\u001b[0m \u001b[32m130.2/130.2 kB\u001b[0m \u001b[31m14.0 MB/s\u001b[0m eta \u001b[36m0:00:00\u001b[0m\n",
            "\u001b[?25hCollecting dnspython>=2.0.0 (from email_validator>=2.0.0->fastapi<1,>=0.95.2->langchain_chroma)\n",
            "  Downloading dnspython-2.6.1-py3-none-any.whl (307 kB)\n",
            "\u001b[2K     \u001b[90m━━━━━━━━━━━━━━━━━━━━━━━━━━━━━━━━━━━━━━━━\u001b[0m \u001b[32m307.7/307.7 kB\u001b[0m \u001b[31m31.7 MB/s\u001b[0m eta \u001b[36m0:00:00\u001b[0m\n",
            "\u001b[?25hRequirement already satisfied: cachetools<6.0,>=2.0.0 in /usr/local/lib/python3.10/dist-packages (from google-auth>=1.0.1->kubernetes>=28.1.0->chromadb) (5.3.3)\n",
            "Requirement already satisfied: pyasn1-modules>=0.2.1 in /usr/local/lib/python3.10/dist-packages (from google-auth>=1.0.1->kubernetes>=28.1.0->chromadb) (0.4.0)\n",
            "Requirement already satisfied: rsa<5,>=3.1.4 in /usr/local/lib/python3.10/dist-packages (from google-auth>=1.0.1->kubernetes>=28.1.0->chromadb) (4.9)\n",
            "Requirement already satisfied: filelock in /usr/local/lib/python3.10/dist-packages (from huggingface-hub<1.0,>=0.16.4->tokenizers>=0.13.2->chromadb) (3.14.0)\n",
            "Requirement already satisfied: fsspec>=2023.5.0 in /usr/local/lib/python3.10/dist-packages (from huggingface-hub<1.0,>=0.16.4->tokenizers>=0.13.2->chromadb) (2023.6.0)\n",
            "Requirement already satisfied: zipp>=0.5 in /usr/local/lib/python3.10/dist-packages (from importlib-metadata<=7.1,>=6.0->opentelemetry-api>=1.2.0->chromadb) (3.19.2)\n",
            "Requirement already satisfied: MarkupSafe>=2.0 in /usr/local/lib/python3.10/dist-packages (from jinja2>=2.11.2->fastapi<1,>=0.95.2->langchain_chroma) (2.1.5)\n",
            "Requirement already satisfied: jsonpointer>=1.9 in /usr/local/lib/python3.10/dist-packages (from jsonpatch<2.0,>=1.33->langchain-core<0.3,>=0.1.40->langchain_chroma) (3.0.0)\n",
            "Requirement already satisfied: markdown-it-py>=2.2.0 in /usr/local/lib/python3.10/dist-packages (from rich>=10.11.0->typer>=0.9.0->chromadb) (3.0.0)\n",
            "Requirement already satisfied: pygments<3.0.0,>=2.13.0 in /usr/local/lib/python3.10/dist-packages (from rich>=10.11.0->typer>=0.9.0->chromadb) (2.16.1)\n",
            "Requirement already satisfied: exceptiongroup in /usr/local/lib/python3.10/dist-packages (from anyio->httpx>=0.27.0->chromadb) (1.2.1)\n",
            "Collecting humanfriendly>=9.1 (from coloredlogs->onnxruntime>=1.14.1->chromadb)\n",
            "  Downloading humanfriendly-10.0-py2.py3-none-any.whl (86 kB)\n",
            "\u001b[2K     \u001b[90m━━━━━━━━━━━━━━━━━━━━━━━━━━━━━━━━━━━━━━━━\u001b[0m \u001b[32m86.8/86.8 kB\u001b[0m \u001b[31m11.6 MB/s\u001b[0m eta \u001b[36m0:00:00\u001b[0m\n",
            "\u001b[?25hRequirement already satisfied: mpmath<1.4.0,>=1.1.0 in /usr/local/lib/python3.10/dist-packages (from sympy->onnxruntime>=1.14.1->chromadb) (1.3.0)\n",
            "Requirement already satisfied: mdurl~=0.1 in /usr/local/lib/python3.10/dist-packages (from markdown-it-py>=2.2.0->rich>=10.11.0->typer>=0.9.0->chromadb) (0.1.2)\n",
            "Requirement already satisfied: pyasn1<0.7.0,>=0.4.6 in /usr/local/lib/python3.10/dist-packages (from pyasn1-modules>=0.2.1->google-auth>=1.0.1->kubernetes>=28.1.0->chromadb) (0.6.0)\n",
            "Building wheels for collected packages: pypika\n",
            "  Building wheel for pypika (pyproject.toml) ... \u001b[?25l\u001b[?25hdone\n",
            "  Created wheel for pypika: filename=PyPika-0.48.9-py2.py3-none-any.whl size=53724 sha256=e5442de1d1aec71e28ec5b1c9dce8e3f1b4fb35baba877a6f9d9266802716147\n",
            "  Stored in directory: /root/.cache/pip/wheels/e1/26/51/d0bffb3d2fd82256676d7ad3003faea3bd6dddc9577af665f4\n",
            "Successfully built pypika\n",
            "Installing collected packages: pypika, monotonic, mmh3, websockets, uvloop, uvicorn, ujson, python-multipart, python-dotenv, overrides, opentelemetry-util-http, opentelemetry-proto, humanfriendly, httptools, dnspython, deprecated, chroma-hnswlib, bcrypt, backoff, asgiref, watchfiles, starlette, posthog, opentelemetry-exporter-otlp-proto-common, opentelemetry-api, email_validator, coloredlogs, opentelemetry-semantic-conventions, opentelemetry-instrumentation, onnxruntime, kubernetes, opentelemetry-sdk, opentelemetry-instrumentation-asgi, fastapi-cli, opentelemetry-instrumentation-fastapi, opentelemetry-exporter-otlp-proto-grpc, fastapi, chromadb, langchain_chroma\n",
            "Successfully installed asgiref-3.8.1 backoff-2.2.1 bcrypt-4.1.3 chroma-hnswlib-0.7.3 chromadb-0.5.2 coloredlogs-15.0.1 deprecated-1.2.14 dnspython-2.6.1 email_validator-2.1.2 fastapi-0.111.0 fastapi-cli-0.0.4 httptools-0.6.1 humanfriendly-10.0 kubernetes-30.1.0 langchain_chroma-0.1.1 mmh3-4.1.0 monotonic-1.6 onnxruntime-1.18.0 opentelemetry-api-1.25.0 opentelemetry-exporter-otlp-proto-common-1.25.0 opentelemetry-exporter-otlp-proto-grpc-1.25.0 opentelemetry-instrumentation-0.46b0 opentelemetry-instrumentation-asgi-0.46b0 opentelemetry-instrumentation-fastapi-0.46b0 opentelemetry-proto-1.25.0 opentelemetry-sdk-1.25.0 opentelemetry-semantic-conventions-0.46b0 opentelemetry-util-http-0.46b0 overrides-7.7.0 posthog-3.5.0 pypika-0.48.9 python-dotenv-1.0.1 python-multipart-0.0.9 starlette-0.37.2 ujson-5.10.0 uvicorn-0.30.1 uvloop-0.19.0 watchfiles-0.22.0 websockets-12.0\n"
          ]
        }
      ]
    },
    {
      "cell_type": "code",
      "source": [
        "from langchain_chroma import Chroma\n",
        "\n",
        "\n"
      ],
      "metadata": {
        "id": "QaOY5bIZM3Xz"
      },
      "execution_count": null,
      "outputs": []
    },
    {
      "cell_type": "code",
      "source": [
        "# Upload vectors to Pinecone\n",
        "\n",
        "\n",
        "search = Chroma.from_documents(texts, embeddings)"
      ],
      "metadata": {
        "id": "lZhSUt3FNBzN"
      },
      "execution_count": null,
      "outputs": []
    },
    {
      "cell_type": "code",
      "source": [
        "# Do a simple vector similarity search\n",
        "\n",
        "query = \"What is magical about an autoencoder?\"\n",
        "result = search.similarity_search(query)\n",
        "\n",
        "result[0].page_content"
      ],
      "metadata": {
        "id": "cCXVuXwPNKcc",
        "colab": {
          "base_uri": "https://localhost:8080/",
          "height": 36
        },
        "outputId": "3fbc51f9-27e1-4c76-f87c-919f07d3215a"
      },
      "execution_count": null,
      "outputs": [
        {
          "output_type": "execute_result",
          "data": {
            "text/plain": [
              "\"This is where an autoencoder comes in. It's like a special kind of box that can learn how to\""
            ],
            "application/vnd.google.colaboratory.intrinsic+json": {
              "type": "string"
            }
          },
          "metadata": {},
          "execution_count": 48
        }
      ]
    },
    {
      "cell_type": "markdown",
      "source": [
        "note that the responses are much related to the results of what we have been doing."
      ],
      "metadata": {
        "id": "mlDy3PsRp2vQ"
      }
    },
    {
      "cell_type": "code",
      "source": [
        "Yeap, that is it. We are at the end of this notebook. Its just a simple demonstration of using Langc"
      ],
      "metadata": {
        "id": "f8srKVeuqPiz"
      },
      "execution_count": null,
      "outputs": []
    }
  ]
}